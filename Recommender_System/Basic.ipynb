{
 "cells": [
  {
   "cell_type": "code",
   "execution_count": 4,
   "id": "6de737e7",
   "metadata": {},
   "outputs": [
    {
     "name": "stdout",
     "output_type": "stream",
     "text": [
      "RMSE: 1.5243\n",
      "\n",
      "Top recommendations for U1:\n",
      "Product: P1, Predicted Rating: 4.29\n",
      "Product: P2, Predicted Rating: 4.21\n",
      "Product: P6, Predicted Rating: 4.09\n",
      "Product: P3, Predicted Rating: 4.08\n",
      "Product: P4, Predicted Rating: 3.98\n",
      "Product: P5, Predicted Rating: 3.70\n"
     ]
    }
   ],
   "source": [
    "# Step 1: Install required library\n",
    "# pip install scikit-surprise\n",
    "\n",
    "from surprise import Dataset, Reader, SVD\n",
    "from surprise.model_selection import train_test_split\n",
    "import pandas as pd\n",
    "\n",
    "# Step 2: Sample interaction data (like product ratings on a shopping site)\n",
    "data_dict = {\n",
    "    'user_id': [\n",
    "        'U1', 'U1', 'U1', 'U2', 'U2', 'U2', 'U3', 'U3', 'U4', 'U4',\n",
    "        'U5', 'U5', 'U6', 'U6', 'U7', 'U7', 'U8', 'U8', 'U9', 'U9'\n",
    "    ],\n",
    "    'product_id': [\n",
    "        'P1', 'P2', 'P5', 'P2', 'P3', 'P4', 'P1', 'P4', 'P2', 'P5',\n",
    "        'P3', 'P5', 'P1', 'P6', 'P2', 'P6', 'P4', 'P5', 'P3', 'P6'\n",
    "    ],\n",
    "    'rating': [\n",
    "        5, 4, 3, 5, 3, 4, 4, 2, 5, 3,\n",
    "        4, 5, 3, 4, 2, 4, 5, 4, 3, 5\n",
    "    ]\n",
    "}\n",
    "\n",
    "df = pd.DataFrame(data_dict)\n",
    "\n",
    "# Step 3: Load into Surprise\n",
    "reader = Reader(rating_scale=(1, 5))\n",
    "data = Dataset.load_from_df(df[['user_id', 'product_id', 'rating']], reader)\n",
    "\n",
    "# Step 4: Train-test split\n",
    "trainset, testset = train_test_split(data, test_size=0.2, random_state=42)\n",
    "\n",
    "# Step 5: Model (SVD - matrix factorization)\n",
    "model = SVD()\n",
    "model.fit(trainset)\n",
    "\n",
    "# Step 6: Evaluate on testset\n",
    "predictions = model.test(testset)\n",
    "\n",
    "# Optional: Calculate RMSE (evaluation)\n",
    "from surprise import accuracy\n",
    "accuracy.rmse(predictions)\n",
    "\n",
    "# Step 7: Make recommendations for a user\n",
    "user_id = 'U1'\n",
    "all_products = df['product_id'].unique()\n",
    "rated_products = df[df['user_id'] == user_id]['product_id']\n",
    "unrated_products = [p for p in all_products if p not in rated_products]\n",
    "\n",
    "# Predict ratings for unrated products\n",
    "user_predictions = [model.predict(user_id, p) for p in unrated_products]\n",
    "\n",
    "# Sort by predicted rating\n",
    "top_recommendations = sorted(user_predictions, key=lambda x: x.est, reverse=True)\n",
    "\n",
    "print(f\"\\nTop recommendations for {user_id}:\")\n",
    "for rec in top_recommendations:\n",
    "    print(f\"Product: {rec.iid}, Predicted Rating: {rec.est:.2f}\")"
   ]
  },
  {
   "cell_type": "code",
   "execution_count": null,
   "id": "6c003f51",
   "metadata": {},
   "outputs": [],
   "source": []
  }
 ],
 "metadata": {
  "kernelspec": {
   "display_name": "tools",
   "language": "python",
   "name": "python3"
  },
  "language_info": {
   "codemirror_mode": {
    "name": "ipython",
    "version": 3
   },
   "file_extension": ".py",
   "mimetype": "text/x-python",
   "name": "python",
   "nbconvert_exporter": "python",
   "pygments_lexer": "ipython3",
   "version": "3.12.8"
  }
 },
 "nbformat": 4,
 "nbformat_minor": 5
}
