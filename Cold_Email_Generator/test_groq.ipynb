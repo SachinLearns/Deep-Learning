{
 "cells": [
  {
   "cell_type": "markdown",
   "metadata": {},
   "source": [
    "To test the Groq API\n",
    "- langchain contains a groq module\n",
    "- Groq contains ChatGroq class"
   ]
  },
  {
   "cell_type": "code",
   "execution_count": null,
   "metadata": {},
   "outputs": [],
   "source": [
    "import os\n",
    "\n",
    "api_key = os.getenv('GROQ_API_KEY')\n",
    "print(f\"API Key: {api_key}\")"
   ]
  },
  {
   "cell_type": "code",
   "execution_count": null,
   "metadata": {},
   "outputs": [],
   "source": [
    "from langchain_groq import ChatGroq\n",
    "import os\n",
    "\n",
    "# API key is loaded from the environment variable GROQ_API_KEY\n",
    "llm = ChatGroq(\n",
    "    temperature=0,\n",
    "    groq_api_key=os.getenv('GROQ_API_KEY'),  # Using environment variable for the API key\n",
    "    model_name='llama-3.1-70b-versatile'\n",
    ")\n",
    "\n",
    "response = llm.invoke(\"The first person to land on the moon was ...\")\n",
    "print(response.content)"
   ]
  }
 ],
 "metadata": {
  "kernelspec": {
   "display_name": "llama",
   "language": "python",
   "name": "python3"
  },
  "language_info": {
   "codemirror_mode": {
    "name": "ipython",
    "version": 3
   },
   "file_extension": ".py",
   "mimetype": "text/x-python",
   "name": "python",
   "nbconvert_exporter": "python",
   "pygments_lexer": "ipython3",
   "version": "3.12.7"
  }
 },
 "nbformat": 4,
 "nbformat_minor": 2
}
