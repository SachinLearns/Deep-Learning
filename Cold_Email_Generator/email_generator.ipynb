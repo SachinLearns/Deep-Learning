{
 "cells": [
  {
   "cell_type": "code",
   "execution_count": 1,
   "metadata": {},
   "outputs": [],
   "source": [
    "from langchain_groq import ChatGroq\n",
    "import os"
   ]
  },
  {
   "cell_type": "code",
   "execution_count": 2,
   "metadata": {},
   "outputs": [],
   "source": [
    "llm = ChatGroq(\n",
    "    temperature=0,\n",
    "    groq_api_key=os.getenv('GROQ_API_KEY'),  # Using environment variable for the API key\n",
    "    model_name='llama-3.1-70b-versatile'\n",
    ")\n",
    "response = llm.invoke(\"The first person to land on moon was\")"
   ]
  },
  {
   "cell_type": "markdown",
   "metadata": {},
   "source": [
    "## WebBaseLoader class of the LangChain module \n",
    "A web-scraper "
   ]
  },
  {
   "cell_type": "code",
   "execution_count": 3,
   "metadata": {},
   "outputs": [
    {
     "name": "stderr",
     "output_type": "stream",
     "text": [
      "USER_AGENT environment variable not set, consider setting it to identify your requests.\n"
     ]
    },
    {
     "name": "stdout",
     "output_type": "stream",
     "text": [
      "Apply for Nike Factory Store - Accounting/Administrative Assistant - Ontario, CA\n",
      "\n",
      "Search JobsSkip navigationSearch JobsNIKE, INC. JOBSContract JobsJoin The Talent CommunityLife @ NikeOverviewBenefitsBrandsOverviewJordanConverseTeamsOverviewAdministrative SupportAdvanced InnovationAir Manufacturing InnovationAviationCommunicationsCustomer ServiceDesignDigitalFacilitiesFinance & AccountingGovernment & Public AffairsHuman ResourcesInsights & AnalyticsLegalManufacturing & EngineeringMarketingMerchandisingPlanningPrivacyProcurementProduct Creation, Development & ManagementRetail CorporateRetail StoresSalesSocial & Community ImpactSports MarketingStrategic PlanningSupply Chain, Distribution & LogisticsSustainabilityTechnologyLocationsOverviewNike WHQNike New York HQEHQ: Hilversum, The NetherlandsELC: Laakdal, BelgiumGreater China HQDiversity, Equity & InclusionOverviewMilitary InclusionDisability InclusionIndigenous InclusionInternshipsRetail StoresNike Factory Store - Accounting/Administrative Assistant - Ontario, CAOntario, CaliforniaBecome a Part of the NIKE, Inc. TeamNIKE, Inc. does more than outfit the world’s best athletes. It is a place to explore potential, obliterate boundaries and push out the edges of what can be. The company looks for people who can grow, think, dream and create. Its culture thrives by embracing diversity and rewarding imagination. The brand seeks achievers, leaders and visionaries. At NIKE, Inc. it’s about each person bringing skills and passion to a challenging and constantly evolving game.To work in retail is to be the face of NIKE, Inc. With a relentless focus on product knowledge and customer service, Nike Retail teams give valuable experiences to consumers every day. From Shanghai to San Francisco, every store has a unique perspective and hosts an inspiring community of sport and style devotees. A career in Nike Retail demands creativity and ambition and offers the opportunity to grow with some of the best athletes, teammates and retail partners in the industry.The hourly rate for this position ranges from $21.50 to $27.95. Actual pay rate will vary based on a candidate's location, qualifications, skills and experience.Information about benefits can be found here.As our Nike Store Accounting/Administrative Assistant your mission is to drive business results by providing a premium consumer and employee experience through an administrative lens.Responsibilities Administer advanced cashiering tasks including all cash-related opening/closing duties, assembling/verifying cash deposits, counting tills, and ensuring that cashiers have adequate change on handSupport scheduling through zone chart report generation and identifying/aiding with opportunities in daily athlete coverageReview athlete tech functionality and store facilities to help troubleshoot, submit service tickets, and track ticket statusesAbility to perform standard cashiering duties and resolve irregular or difficult transactionsPerform other support tasks as required including but not limited to processing staff uniform transactions, answering telephone calls, ordering supplies, and submitting change ordersQualificationsHigh school diploma or equivalent1-year minimum retail experienceAbility to communicate in EnglishProficient knowledge of office practices, procedures, and equipmentIntermediate skills in Microsoft Office products including Word and ExcelAbility to use the Internet/Intranet as a resource for department work activitiesStrong customer service skills and the ability to exercise a high degree of professionalismStrong attention to detail and deadlinesNIKE, Inc. is a growth company that looks for team members to grow with it. Nike offers a generous total rewards package, casual work environment, a diverse and inclusive culture, and an electric atmosphere for professional development. No matter the location, or the role, every Nike employee shares one galvanizing mission: To bring inspiration and innovation to every athlete* in the world.NIKE, Inc. is committed to employing a diverse workforce. Qualified applicants will receive consideration without regard to race, color, religion, sex, national origin, age, sexual orientation, gender identity, gender expression, veteran status, or disability.How We HireAt NIKE, Inc. we promise to provide a premium, inclusive, compelling and authentic candidate experience. Delivering on this promise means we allow you to be at your best — and to do that, you need to understand how the hiring process works. Transparency is key.\n",
      "\n",
      "* This overview explains our hiring process for corporate roles. Note there may be different hiring steps involved for non-corporate roles.Start nowBenefitsWhether it’s transportation or financial health, we continually invest in our employees to help them achieve greatness — inside and outside of work. All who work here should be able to realize their full potential.Employee Assistance ProgramEmployee Stock Purchase Plan (ESPP)HolidaysMedical PlanPaid Time Off (PTO)Product DiscountsSabbaticalsLearn moreFIND A STOREBECOME A MEMBERSIGN UP FOR EMAILSEND US FEEDBACKSTUDENT DISCOUNTSGET HELPGET HELPOrder StatusDeliveryReturnsPayment OptionsContact Us On Nike.com InquiriesContact Us On All Other InquiriesABOUT NIKEABOUT NIKENewsCareersInvestorsSustainabilityIndia© 2024 Nike, Inc. All Rights ReservedGuidesNike AdaptNike Air MaxNike FlyleatherNike PegasusNike Zoom FlyNike AirNike FlyEaseNike FreeNike ReactNike ZoomXNike Air Force 1Nike FlyknitNike JoyrideNike VaporflyTerms of SaleTerms of UseNike Privacy Policy\n"
     ]
    }
   ],
   "source": [
    "from langchain_community.document_loaders import WebBaseLoader\n",
    "\n",
    "loader = WebBaseLoader(\"https://jobs.nike.com/job/R-36059?from=job%20search%20funnel\")\n",
    "page_data = loader.load().pop().page_content \n",
    "print(page_data)"
   ]
  },
  {
   "cell_type": "code",
   "execution_count": 6,
   "metadata": {},
   "outputs": [
    {
     "name": "stdout",
     "output_type": "stream",
     "text": [
      "```json\n",
      "{\n",
      "  \"role\": \"Accounting/Administrative Assistant\",\n",
      "  \"experience level\": \"1-year minimum retail experience\",\n",
      "  \"skills\": [\n",
      "    \"Proficient knowledge of office practices, procedures, and equipment\",\n",
      "    \"Intermediate skills in Microsoft Office products including Word and Excel\",\n",
      "    \"Ability to use the Internet/Intranet as a resource for department work activities\",\n",
      "    \"Strong customer service skills\",\n",
      "    \"Strong attention to detail and deadlines\"\n",
      "  ],\n",
      "  \"description\": \"Administer advanced cashiering tasks including all cash-related opening/closing duties, assembling/verifying cash deposits, counting tills, and ensuring that cashiers have adequate change on hand. Support scheduling through zone chart report generation and identifying/aiding with opportunities in daily athlete coverage. Review athlete tech functionality and store facilities to help troubleshoot, submit service tickets, and track ticket statuses. Ability to perform standard cashiering duties and resolve irregular or difficult transactions. Perform other support tasks as required including but not limited to processing staff uniform transactions, answering telephone calls, ordering supplies, and submitting change orders.\"\n",
      "}\n",
      "```\n"
     ]
    }
   ],
   "source": [
    "from langchain_core.prompts import PromptTemplate\n",
    "\n",
    "prompt_extract = PromptTemplate.from_template(\n",
    "    \"\"\"\n",
    "    ### SCRAPED TEXT FROM WEBSITE:\n",
    "    {page_data}\n",
    "    ### INSTRUCTION:\n",
    "    The scraped text is from the career's page of a website.\n",
    "    Your job is to extract the job postings and return them in JSON format containing the keys:\n",
    "    'role', 'experience level', 'skills', and 'description'\n",
    "    Only return the valid JSON.\n",
    "    ###VALID JSON (NO PREAMBLE):\n",
    "\n",
    "\"\"\"\n",
    ")\n",
    "\n",
    "\n",
    "chain_extract = prompt_extract | llm # This is the LangChain chain - you have a prompt and you are passing it to LLM\n",
    "response = chain_extract.invoke(input = {\"page_data\": page_data}) # This is the response from the chain\n",
    "print(response.content)"
   ]
  },
  {
   "cell_type": "markdown",
   "metadata": {},
   "source": [
    "The LLM has extracted all the key desired information from the given content. This is the power of LLM. "
   ]
  },
  {
   "cell_type": "code",
   "execution_count": 7,
   "metadata": {},
   "outputs": [
    {
     "data": {
      "text/plain": [
       "str"
      ]
     },
     "execution_count": 7,
     "metadata": {},
     "output_type": "execute_result"
    }
   ],
   "source": [
    "type(response.content)"
   ]
  },
  {
   "cell_type": "markdown",
   "metadata": {},
   "source": [
    "Note that the output is a string. We have to convert it into a json (viz. a dictionary) format using LangChain JSON Parser class."
   ]
  },
  {
   "cell_type": "code",
   "execution_count": 10,
   "metadata": {},
   "outputs": [
    {
     "data": {
      "text/plain": [
       "{'role': 'Accounting/Administrative Assistant',\n",
       " 'experience level': '1-year minimum retail experience',\n",
       " 'skills': ['Proficient knowledge of office practices, procedures, and equipment',\n",
       "  'Intermediate skills in Microsoft Office products including Word and Excel',\n",
       "  'Ability to use the Internet/Intranet as a resource for department work activities',\n",
       "  'Strong customer service skills',\n",
       "  'Strong attention to detail and deadlines'],\n",
       " 'description': 'Administer advanced cashiering tasks including all cash-related opening/closing duties, assembling/verifying cash deposits, counting tills, and ensuring that cashiers have adequate change on hand. Support scheduling through zone chart report generation and identifying/aiding with opportunities in daily athlete coverage. Review athlete tech functionality and store facilities to help troubleshoot, submit service tickets, and track ticket statuses. Ability to perform standard cashiering duties and resolve irregular or difficult transactions. Perform other support tasks as required including but not limited to processing staff uniform transactions, answering telephone calls, ordering supplies, and submitting change orders.'}"
      ]
     },
     "execution_count": 10,
     "metadata": {},
     "output_type": "execute_result"
    }
   ],
   "source": [
    "from langchain_core.output_parsers import JsonOutputParser\n",
    "\n",
    "json_parser = JsonOutputParser()\n",
    "json_response = json_parser.parse(response.content)\n",
    "json_response"
   ]
  },
  {
   "cell_type": "code",
   "execution_count": 11,
   "metadata": {},
   "outputs": [
    {
     "data": {
      "text/plain": [
       "dict"
      ]
     },
     "execution_count": 11,
     "metadata": {},
     "output_type": "execute_result"
    }
   ],
   "source": [
    "type(json_response)"
   ]
  },
  {
   "cell_type": "markdown",
   "metadata": {},
   "source": [
    "Now, a dummy file named 'my_portfolio.csv' has been created that contains the content of the portfolio - Various technologies that the company has human resources for and the corresponding portfolio links.\n",
    "\n",
    "The LLM should be able to match the one or more technologies from the portfolio with the content of the job description and provide the corresponding portfolio links."
   ]
  },
  {
   "cell_type": "code",
   "execution_count": 12,
   "metadata": {},
   "outputs": [
    {
     "data": {
      "text/html": [
       "<div>\n",
       "<style scoped>\n",
       "    .dataframe tbody tr th:only-of-type {\n",
       "        vertical-align: middle;\n",
       "    }\n",
       "\n",
       "    .dataframe tbody tr th {\n",
       "        vertical-align: top;\n",
       "    }\n",
       "\n",
       "    .dataframe thead th {\n",
       "        text-align: right;\n",
       "    }\n",
       "</style>\n",
       "<table border=\"1\" class=\"dataframe\">\n",
       "  <thead>\n",
       "    <tr style=\"text-align: right;\">\n",
       "      <th></th>\n",
       "      <th>Techstack</th>\n",
       "      <th>Links</th>\n",
       "    </tr>\n",
       "  </thead>\n",
       "  <tbody>\n",
       "    <tr>\n",
       "      <th>0</th>\n",
       "      <td>React, Node.js, MongoDB</td>\n",
       "      <td>https://example.com/react-portfolio</td>\n",
       "    </tr>\n",
       "    <tr>\n",
       "      <th>1</th>\n",
       "      <td>Angular,.NET, SQL Server</td>\n",
       "      <td>https://example.com/angular-portfolio</td>\n",
       "    </tr>\n",
       "    <tr>\n",
       "      <th>2</th>\n",
       "      <td>Vue.js, Ruby on Rails, PostgreSQL</td>\n",
       "      <td>https://example.com/vue-portfolio</td>\n",
       "    </tr>\n",
       "    <tr>\n",
       "      <th>3</th>\n",
       "      <td>Python, Django, MySQL</td>\n",
       "      <td>https://example.com/python-portfolio</td>\n",
       "    </tr>\n",
       "    <tr>\n",
       "      <th>4</th>\n",
       "      <td>Java, Spring Boot, Oracle</td>\n",
       "      <td>https://example.com/java-portfolio</td>\n",
       "    </tr>\n",
       "    <tr>\n",
       "      <th>5</th>\n",
       "      <td>Flutter, Firebase, GraphQL</td>\n",
       "      <td>https://example.com/flutter-portfolio</td>\n",
       "    </tr>\n",
       "    <tr>\n",
       "      <th>6</th>\n",
       "      <td>WordPress, PHP, MySQL</td>\n",
       "      <td>https://example.com/wordpress-portfolio</td>\n",
       "    </tr>\n",
       "    <tr>\n",
       "      <th>7</th>\n",
       "      <td>Magento, PHP, MySQL</td>\n",
       "      <td>https://example.com/magento-portfolio</td>\n",
       "    </tr>\n",
       "    <tr>\n",
       "      <th>8</th>\n",
       "      <td>React Native, Node.js, MongoDB</td>\n",
       "      <td>https://example.com/react-native-portfolio</td>\n",
       "    </tr>\n",
       "    <tr>\n",
       "      <th>9</th>\n",
       "      <td>iOS, Swift, Core Data</td>\n",
       "      <td>https://example.com/ios-portfolio</td>\n",
       "    </tr>\n",
       "    <tr>\n",
       "      <th>10</th>\n",
       "      <td>Android, Java, Room Persistence</td>\n",
       "      <td>https://example.com/android-portfolio</td>\n",
       "    </tr>\n",
       "    <tr>\n",
       "      <th>11</th>\n",
       "      <td>Kotlin, Android, Firebase</td>\n",
       "      <td>https://example.com/kotlin-android-portfolio</td>\n",
       "    </tr>\n",
       "    <tr>\n",
       "      <th>12</th>\n",
       "      <td>Android TV, Kotlin, Android NDK</td>\n",
       "      <td>https://example.com/android-tv-portfolio</td>\n",
       "    </tr>\n",
       "    <tr>\n",
       "      <th>13</th>\n",
       "      <td>iOS, Swift, ARKit</td>\n",
       "      <td>https://example.com/ios-ar-portfolio</td>\n",
       "    </tr>\n",
       "    <tr>\n",
       "      <th>14</th>\n",
       "      <td>Cross-platform, Xamarin, Azure</td>\n",
       "      <td>https://example.com/xamarin-portfolio</td>\n",
       "    </tr>\n",
       "    <tr>\n",
       "      <th>15</th>\n",
       "      <td>Backend, Kotlin, Spring Boot</td>\n",
       "      <td>https://example.com/kotlin-backend-portfolio</td>\n",
       "    </tr>\n",
       "    <tr>\n",
       "      <th>16</th>\n",
       "      <td>Frontend, TypeScript, Angular</td>\n",
       "      <td>https://example.com/typescript-frontend-portfolio</td>\n",
       "    </tr>\n",
       "    <tr>\n",
       "      <th>17</th>\n",
       "      <td>Full-stack, JavaScript, Express.js</td>\n",
       "      <td>https://example.com/full-stack-js-portfolio</td>\n",
       "    </tr>\n",
       "    <tr>\n",
       "      <th>18</th>\n",
       "      <td>Machine Learning, Python, TensorFlow</td>\n",
       "      <td>https://example.com/ml-python-portfolio</td>\n",
       "    </tr>\n",
       "    <tr>\n",
       "      <th>19</th>\n",
       "      <td>DevOps, Jenkins, Docker</td>\n",
       "      <td>https://example.com/devops-portfolio</td>\n",
       "    </tr>\n",
       "  </tbody>\n",
       "</table>\n",
       "</div>"
      ],
      "text/plain": [
       "                               Techstack  \\\n",
       "0                React, Node.js, MongoDB   \n",
       "1               Angular,.NET, SQL Server   \n",
       "2      Vue.js, Ruby on Rails, PostgreSQL   \n",
       "3                  Python, Django, MySQL   \n",
       "4              Java, Spring Boot, Oracle   \n",
       "5             Flutter, Firebase, GraphQL   \n",
       "6                  WordPress, PHP, MySQL   \n",
       "7                    Magento, PHP, MySQL   \n",
       "8         React Native, Node.js, MongoDB   \n",
       "9                  iOS, Swift, Core Data   \n",
       "10       Android, Java, Room Persistence   \n",
       "11             Kotlin, Android, Firebase   \n",
       "12       Android TV, Kotlin, Android NDK   \n",
       "13                     iOS, Swift, ARKit   \n",
       "14        Cross-platform, Xamarin, Azure   \n",
       "15          Backend, Kotlin, Spring Boot   \n",
       "16         Frontend, TypeScript, Angular   \n",
       "17    Full-stack, JavaScript, Express.js   \n",
       "18  Machine Learning, Python, TensorFlow   \n",
       "19               DevOps, Jenkins, Docker   \n",
       "\n",
       "                                                Links  \n",
       "0                 https://example.com/react-portfolio  \n",
       "1               https://example.com/angular-portfolio  \n",
       "2                   https://example.com/vue-portfolio  \n",
       "3                https://example.com/python-portfolio  \n",
       "4                  https://example.com/java-portfolio  \n",
       "5               https://example.com/flutter-portfolio  \n",
       "6             https://example.com/wordpress-portfolio  \n",
       "7               https://example.com/magento-portfolio  \n",
       "8          https://example.com/react-native-portfolio  \n",
       "9                   https://example.com/ios-portfolio  \n",
       "10              https://example.com/android-portfolio  \n",
       "11       https://example.com/kotlin-android-portfolio  \n",
       "12           https://example.com/android-tv-portfolio  \n",
       "13               https://example.com/ios-ar-portfolio  \n",
       "14              https://example.com/xamarin-portfolio  \n",
       "15       https://example.com/kotlin-backend-portfolio  \n",
       "16  https://example.com/typescript-frontend-portfolio  \n",
       "17        https://example.com/full-stack-js-portfolio  \n",
       "18            https://example.com/ml-python-portfolio  \n",
       "19               https://example.com/devops-portfolio  "
      ]
     },
     "execution_count": 12,
     "metadata": {},
     "output_type": "execute_result"
    }
   ],
   "source": [
    "import pandas as pd\n",
    "\n",
    "df = pd.read_csv('my_portfolio.csv')\n",
    "df"
   ]
  },
  {
   "cell_type": "markdown",
   "metadata": {},
   "source": [
    "This data has to be sent to chromadb database for further processing."
   ]
  },
  {
   "cell_type": "code",
   "execution_count": 14,
   "metadata": {},
   "outputs": [],
   "source": [
    "import chromadb\n",
    "import uuid\n",
    "\n",
    "client  = chromadb.PersistentClient('vectorstore') #.Client  creates a new client each time it is called, while PersistentClient creates a client that can be reused (by storing it on the disk)\n",
    "# Thus, PersistentClient will generate a local database that can be reused for future use\n",
    "collection = client.get_or_create_collection(name='portfolio')\n",
    "\n",
    "if not collection.count(): # If the collection is empty, then add the data\n",
    "    for _, row in df.iterrows():\n",
    "        collection.add(documents=row['Techstack'],\n",
    "                       metadatas={\"links\": row['Links']},\n",
    "                       ids = [str(uuid.uuid4())])\n",
    "        \n",
    "# A folder will be generated by the name of 'vectorstore' in the current directory where the database will be stored."
   ]
  },
  {
   "cell_type": "code",
   "execution_count": 16,
   "metadata": {},
   "outputs": [
    {
     "data": {
      "text/plain": [
       "{'ids': [['e756e802-d653-4052-a39f-b0c2821431d8',\n",
       "   'f0e9dcc9-a6d1-4305-b9ba-d7a1c122a4c9'],\n",
       "  ['2d7dbbed-55b4-4bc5-82cf-9867f5062899',\n",
       "   '0b87744e-0512-4db0-b7f9-6851712f0e79']],\n",
       " 'distances': [[0.9968848007555503, 1.0578701721493369],\n",
       "  [0.9630732819680132, 1.0685748833873279]],\n",
       " 'metadatas': [[{'links': 'https://example.com/ml-python-portfolio'},\n",
       "   {'links': 'https://example.com/python-portfolio'}],\n",
       "  [{'links': 'https://example.com/react-portfolio'},\n",
       "   {'links': 'https://example.com/react-native-portfolio'}]],\n",
       " 'embeddings': None,\n",
       " 'documents': [['Machine Learning, Python, TensorFlow',\n",
       "   'Python, Django, MySQL'],\n",
       "  ['React, Node.js, MongoDB', 'React Native, Node.js, MongoDB']],\n",
       " 'uris': None,\n",
       " 'data': None,\n",
       " 'included': ['metadatas', 'documents', 'distances']}"
      ]
     },
     "execution_count": 16,
     "metadata": {},
     "output_type": "execute_result"
    }
   ],
   "source": [
    "# Trial query\n",
    "links = collection.query(query_texts=[\"Experience in Python\", \"Experience in React\"], n_results=2)\n",
    "links"
   ]
  },
  {
   "cell_type": "code",
   "execution_count": 17,
   "metadata": {},
   "outputs": [
    {
     "data": {
      "text/plain": [
       "[['Machine Learning, Python, TensorFlow', 'Python, Django, MySQL'],\n",
       " ['React, Node.js, MongoDB', 'React Native, Node.js, MongoDB']]"
      ]
     },
     "execution_count": 17,
     "metadata": {},
     "output_type": "execute_result"
    }
   ],
   "source": [
    "collection.query(query_texts=[\"Experience in Python\", \"Experience in React\"], n_results=2).get('documents')"
   ]
  },
  {
   "cell_type": "markdown",
   "metadata": {},
   "source": [
    "For the first one, it is bringing ['Machine Learning, Python, TensorFlow','Python, Django, MySQL'] and for the second one ['React, Node.js, MongoDB', 'React Native, Node.js, MongoDB']."
   ]
  },
  {
   "cell_type": "code",
   "execution_count": 19,
   "metadata": {},
   "outputs": [
    {
     "data": {
      "text/plain": [
       "['Proficient knowledge of office practices, procedures, and equipment',\n",
       " 'Intermediate skills in Microsoft Office products including Word and Excel',\n",
       " 'Ability to use the Internet/Intranet as a resource for department work activities',\n",
       " 'Strong customer service skills',\n",
       " 'Strong attention to detail and deadlines']"
      ]
     },
     "execution_count": 19,
     "metadata": {},
     "output_type": "execute_result"
    }
   ],
   "source": [
    "job = json_response\n",
    "job[\"skills\"]"
   ]
  },
  {
   "cell_type": "code",
   "execution_count": 20,
   "metadata": {},
   "outputs": [
    {
     "data": {
      "text/plain": [
       "[[{'links': 'https://example.com/android-portfolio'},\n",
       "  {'links': 'https://example.com/devops-portfolio'}],\n",
       " [{'links': 'https://example.com/wordpress-portfolio'},\n",
       "  {'links': 'https://example.com/xamarin-portfolio'}],\n",
       " [{'links': 'https://example.com/xamarin-portfolio'},\n",
       "  {'links': 'https://example.com/kotlin-android-portfolio'}],\n",
       " [{'links': 'https://example.com/ml-python-portfolio'},\n",
       "  {'links': 'https://example.com/magento-portfolio'}],\n",
       " [{'links': 'https://example.com/ios-portfolio'},\n",
       "  {'links': 'https://example.com/full-stack-js-portfolio'}]]"
      ]
     },
     "execution_count": 20,
     "metadata": {},
     "output_type": "execute_result"
    }
   ],
   "source": [
    "links = collection.query(query_texts=job['skills'], n_results=2).get('metadatas', [])\n",
    "links"
   ]
  },
  {
   "cell_type": "markdown",
   "metadata": {},
   "source": [
    "# Generate Email"
   ]
  },
  {
   "cell_type": "code",
   "execution_count": 21,
   "metadata": {},
   "outputs": [
    {
     "name": "stdout",
     "output_type": "stream",
     "text": [
      "Subject: Streamlining Accounting and Administrative Tasks with AtliQ's Expertise\n",
      "\n",
      "Dear Hiring Manager,\n",
      "\n",
      "I came across the job description for an Accounting/Administrative Assistant at your esteemed organization and was impressed by the role's requirements. As a Business Development Executive at AtliQ, I believe our company can help you streamline and automate various tasks mentioned in the job description, thereby increasing efficiency and reducing costs.\n",
      "\n",
      "Our team at AtliQ has extensive experience in developing customized software solutions that cater to the specific needs of businesses like yours. We can help you automate tasks such as cash-related opening/closing duties, assembling/verifying cash deposits, and generating zone chart reports. Our expertise in Microsoft Office products, including Word and Excel, can also be leveraged to create tailored solutions for your organization.\n",
      "\n",
      "Our portfolio showcases our capabilities in developing scalable and efficient solutions. Some relevant examples include:\n",
      "\n",
      "* Android-based solutions for automating retail operations (https://example.com/android-portfolio)\n",
      "* DevOps solutions for streamlining workflows and improving efficiency (https://example.com/devops-portfolio)\n",
      "* Full-stack JavaScript solutions for creating customized web applications (https://example.com/full-stack-js-portfolio)\n",
      "\n",
      "By partnering with AtliQ, you can benefit from our expertise in process optimization, cost reduction, and scalability. We can help you create a more efficient and automated workflow, allowing your Accounting/Administrative Assistant to focus on higher-value tasks.\n",
      "\n",
      "I would be delighted to discuss how AtliQ can help your organization achieve its goals. Please feel free to contact me at your convenience.\n",
      "\n",
      "Best regards,\n",
      "\n",
      "Mohan\n",
      "Business Development Executive\n",
      "AtliQ\n"
     ]
    }
   ],
   "source": [
    "prompt_email = PromptTemplate.from_template(\n",
    "    \"\"\"\n",
    "    ### JOB DESCRIPTION:\n",
    "    {job_description}\n",
    "\n",
    "    ### INSTRUCTION:\n",
    "    You are Mohan, a business development executive at AtliQ. AtliQ is an AI & Software Consulting company dedicated to facilitating\n",
    "    the seamless integration of business processes through automated tools. \n",
    "    Over our experience, we have empowered numerous enterprises with tailored solutions, fostering scalability, \n",
    "    process optimization, cost reduction, and heightened overall efficiency. \n",
    "    Your job is to write a cold email to the client regarding the job mentioned above describing the capability of AtliQ \n",
    "    in fulfilling their needs.\n",
    "    Also add the most relevant ones from the following links to showcase Atliq's portfolio: {link_list}\n",
    "    Remember you are Mohan, BDE at AtliQ. \n",
    "    Do not provide a preamble.\n",
    "    ### EMAIL (NO PREAMBLE):\n",
    "\"\"\"\n",
    ")\n",
    "\n",
    "chain_email = prompt_email | llm\n",
    "response = chain_email.invoke(input = {\"job_description\": str(job), \"link_list\": links})\n",
    "print(response.content)\n"
   ]
  }
 ],
 "metadata": {
  "kernelspec": {
   "display_name": "llama",
   "language": "python",
   "name": "python3"
  },
  "language_info": {
   "codemirror_mode": {
    "name": "ipython",
    "version": 3
   },
   "file_extension": ".py",
   "mimetype": "text/x-python",
   "name": "python",
   "nbconvert_exporter": "python",
   "pygments_lexer": "ipython3",
   "version": "3.12.7"
  }
 },
 "nbformat": 4,
 "nbformat_minor": 2
}
